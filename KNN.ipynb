{
 "cells": [
  {
   "cell_type": "code",
   "execution_count": null,
   "id": "ead2876c",
   "metadata": {},
   "outputs": [],
   "source": [
    "import pandas as pd\n",
    "from sklearn.model_selection import train_test_split, GridSearchCV\n",
    "from sklearn.preprocessing import StandardScaler\n",
    "from sklearn.neighbors import KNeighborsClassifier\n",
    "from sklearn.metrics import classification_report\n",
    "\n",
    "# Load your dataset\n",
    "df = pd.read_csv('dataset_MLproject.csv')\n",
    "\n",
    "# Separate features and target\n",
    "X = df.drop(columns=['target_column'])  # Replace with your actual target column\n",
    "y = df['target_column']\n",
    "\n",
    "# Convert text to numeric if necessary\n",
    "X = pd.get_dummies(X)\n",
    "\n",
    "# Scale the features\n",
    "scaler = StandardScaler()\n",
    "X_scaled = scaler.fit_transform(X)\n",
    "\n",
    "# Split the data\n",
    "X_train, X_test, y_train, y_test = train_test_split(X_scaled, y, test_size=0.2, random_state=42)\n",
    "\n",
    "# KNN with GridSearch\n",
    "param_grid = {'n_neighbors': [3, 5, 7, 9]}\n",
    "grid = GridSearchCV(KNeighborsClassifier(), param_grid, cv=5)\n",
    "grid.fit(X_train, y_train)\n",
    "\n",
    "# Evaluation\n",
    "print(\"Best K:\", grid.best_params_)\n",
    "print(classification_report(y_test, grid.predict(X_test)))\n"
   ]
  }
 ],
 "metadata": {
  "language_info": {
   "name": "python"
  }
 },
 "nbformat": 4,
 "nbformat_minor": 5
}
